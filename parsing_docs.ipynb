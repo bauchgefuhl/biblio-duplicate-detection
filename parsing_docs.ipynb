{
 "cells": [
  {
   "cell_type": "code",
   "execution_count": null,
   "metadata": {
    "collapsed": true
   },
   "outputs": [],
   "source": [
    "import time\n",
    "import pandas as pd\n",
    "import json\n",
    "\n",
    "import os\n",
    "from selenium import webdriver\n",
    "from selenium.webdriver.chrome.options import Options\n",
    "from selenium.webdriver.common.keys import Keys\n",
    "from selenium.webdriver.common.desired_capabilities import DesiredCapabilities\n",
    "\n",
    "from __future__ import unicode_literals\n",
    "import urllib"
   ]
  },
  {
   "cell_type": "code",
   "execution_count": null,
   "metadata": {
    "collapsed": true
   },
   "outputs": [],
   "source": [
    "lit = pd.read_csv(r'C:\\Users\\manokhina\\Documents\\thesis\\top_cit_papers.csv', sep=';')\n",
    "\n",
    "executable_path = r\"C:\\Program Files (x86)\\Google\\Chrome\\Application\\chromedriver.exe\"\n",
    "os.environ[\"webdriver.chrome.driver\"] = executable_path\n",
    "\n",
    "chrome_options = Options()\n",
    "chrome_options.add_extension(r'C:\\Program Files (x86)\\Google\\Chrome\\Application\\extension_3_9_0.crx')"
   ]
  },
  {
   "cell_type": "code",
   "execution_count": null,
   "metadata": {
    "collapsed": true
   },
   "outputs": [],
   "source": [
    "capabilities = DesiredCapabilities.CHROME.copy()\n",
    "capabilities['unicodeKeyboard'] = 'True'"
   ]
  },
  {
   "cell_type": "code",
   "execution_count": null,
   "metadata": {
    "collapsed": true
   },
   "outputs": [],
   "source": [
    "driver = webdriver.Chrome(executable_path=executable_path, chrome_options=chrome_options)\n",
    "driver.get(\"chrome-extension://omghfjlpggmjjaagoclmmobgdodcjboh/popup.html#\")\n",
    "driver.find_element_by_class_name('b-switch-label').click()"
   ]
  },
  {
   "cell_type": "code",
   "execution_count": null,
   "metadata": {
    "collapsed": true
   },
   "outputs": [],
   "source": [
    "pdf_links = {}\n",
    "\n",
    "for string in lits:\n",
    "    page_count = 1\n",
    "    i = unicode(string.decode(\"utf-8\")).split('&')[0]\n",
    "    driver.get(\"http://scholar.google.com\")\n",
    "    \n",
    "    time.sleep(2)\n",
    "    search = driver.find_element_by_name(\"q\") \n",
    "    search.send_keys(i)\n",
    "    search.send_keys(Keys.RETURN)\n",
    "    time.sleep(3)\n",
    "    cit_list = driver.find_elements_by_partial_link_text(u\"Цитируется\")\n",
    "    \n",
    "    if cit_list:\n",
    "        cit_list[0].click()\n",
    "        \n",
    "    urls = [u.get_attribute('href') for u in driver.find_elements_by_partial_link_text(u\"[PDF]\")]\n",
    "    pdf_links[i] = urls\n",
    "    page_count += 1\n",
    "    driver.find_elements_by_link_text(unicode(str(page_count).decode(\"utf-8\")))[0].click()\n",
    "\n",
    "    while len(pdf_links[i]) < 50:  \n",
    "        urls = [u.get_attribute('href') for u in driver.find_elements_by_partial_link_text(u\"[PDF]\")]\n",
    "        pdf_links[i] += urls\n",
    "        page_count += 1\n",
    "        time.sleep(2)\n",
    "        if driver.find_elements_by_link_text(unicode(str(page_count).decode(\"utf-8\"))):\n",
    "            driver.find_elements_by_link_text(unicode(str(page_count).decode(\"utf-8\")))[0].click()\n",
    "        else:\n",
    "            break"
   ]
  },
  {
   "cell_type": "code",
   "execution_count": null,
   "metadata": {
    "collapsed": true
   },
   "outputs": [],
   "source": [
    "testfile = urllib.URLopener()\n",
    "\n",
    "for k in pdf_links.keys():\n",
    "    print k\n",
    "    directory = os.path.join(r'C:\\\\Users\\\\manokhina\\\\Documents\\\\thesis\\\\data', k[:20])\n",
    "    \n",
    "    if not os.path.exists(directory):        \n",
    "        os.makedirs(directory)\n",
    "               \n",
    "    for link in pdf_links[k]:       \n",
    "        filename = link.split('/')[-1].split('.pdf')[0].replace(\"%\",'')[:40] + '.pdf'        \n",
    "        try:\n",
    "            testfile.retrieve(link, os.path.join(directory, filename))\n",
    "        except IOError  as e:\n",
    "            continue       "
   ]
  }
 ],
 "metadata": {
  "anaconda-cloud": {},
  "kernelspec": {
   "display_name": "Python 2",
   "language": "python",
   "name": "python2"
  },
  "language_info": {
   "codemirror_mode": {
    "name": "ipython",
    "version": 2
   },
   "file_extension": ".py",
   "mimetype": "text/x-python",
   "name": "python",
   "nbconvert_exporter": "python",
   "pygments_lexer": "ipython2",
   "version": "2.7.11"
  }
 },
 "nbformat": 4,
 "nbformat_minor": 0
}
